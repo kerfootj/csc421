{
 "cells": [
  {
   "cell_type": "markdown",
   "metadata": {},
   "source": [
    "# CSC421 Assignment 3 - Part II Naive Bayes Classification (5 points) #\n",
    "### Author: George Tzanetakis \n",
    "\n",
    "This notebook is based on the supporting material for topics covered in **Chapter 13 Quantifying Uncertainty**and **Chapter 20 - Statistical Learning Method** from the book *Artificial Intelligence: A Modern Approach.* This part does NOT rely on the provided code so you can complete it just using basic Python. \n",
    "\n",
    "```\n",
    "Misunderstanding of probability may be the greatest of all impediments\n",
    "to scientific literacy.\n",
    "\n",
    "Gould, Stephen Jay\n",
    "```\n",
    "\n"
   ]
  },
  {
   "cell_type": "markdown",
   "metadata": {},
   "source": [
    "# Introduction \n",
    "\n",
    "\n",
    "Text categorization is the task of assigning a given document to one of a fixed set of categories, on the basis of text it contains. Naive Bayes models are often used for this task. In these models, the query variable is\n",
    "the document category, and the effect variables are the presence/absence\n",
    "of each word in the language; the assumption is that words occur independently in documents within a given category (condititional independence), with frequencies determined by document category. Download the following file: http://www.cs.cornell.edu/People/pabo/movie-review-data/review_polarity.tar.gz containing a dataset that has been used for text mining consisting of movie reviews classified into negative and positive. You\n",
    "will see that there are two folders for the positivie and negative category and they each contain multiple text files with the reviews. You can find more information about the dataset at: \n",
    "http://www.cs.cornell.edu/People/pabo/movie-review-data/\n",
    "\n",
    "\n",
    "Our goal will be to build a simple Naive Bayes classifier for this dataset. More complicated approaches using term frequency and inverse document frequency weighting and many more words are possible but the basic concepts\n",
    "are the same. The goal is to understand the whole process so DO NOT use existing machine learning packages but rather build the classifier from scratch.\n",
    "\n",
    "Our feature vector representation for each text file will be simply a binary vector that shows which of the following words are present in the text file: Awful Bad Boring Dull Effective Enjoyable Great Hilarious. For example the text file cv996 11592.txt would be represented as (0, 0, 0, 0, 1, 0, 1, 0) because it contains Effective and Great but none of the other words."
   ]
  },
  {
   "cell_type": "markdown",
   "metadata": {},
   "source": [
    "# Question 2A (Minimum) CSC421 -  (1 point, CSC581C - 0 points) \n",
    "\n",
    "Write code that parses the text files and calculates the probabilities for\n",
    "each dictionary word given the review polarity"
   ]
  },
  {
   "cell_type": "code",
   "execution_count": 33,
   "metadata": {},
   "outputs": [],
   "source": [
    "import os\n",
    "import numpy as np\n",
    "from tabulate import tabulate\n",
    "from random import random\n",
    "\n",
    "words = ['awful', 'bad', 'boring', 'dull', 'effective', 'enjoyable', 'great', 'hilarious']"
   ]
  },
  {
   "cell_type": "code",
   "execution_count": 10,
   "metadata": {},
   "outputs": [
    {
     "name": "stdout",
     "output_type": "stream",
     "text": [
      "polarity      awful    bad    boring    dull    effective    enjoyable    great    hilarious\n",
      "----------  -------  -----  --------  ------  -----------  -----------  -------  -----------\n",
      "pos           0.034  0.28      0.054   0.025        0.154        0.096    0.485        0.132\n",
      "neg           0.122  0.545     0.175   0.101        0.086        0.054    0.32         0.059\n"
     ]
    }
   ],
   "source": [
    "def parse_prob(polarity):\n",
    "    prob = np.zeros(8)\n",
    "    for s, d, files in os.walk('txt_sentoken' + os.sep + polarity):\n",
    "        for file in files:\n",
    "            with open('txt_sentoken' + os.sep + polarity + os.sep + file) as f:\n",
    "                review = f.read().lower()\n",
    "                prob += np.array([1 if word in review else 0 for word in words])\n",
    "        return [x / len(files) for x in prob]\n",
    "\n",
    "print(tabulate([\n",
    "    ['pos'] + parse_prob('pos'),\n",
    "    ['neg'] + parse_prob('neg')],\n",
    "    headers= ['polarity'] + words\n",
    "))"
   ]
  },
  {
   "cell_type": "markdown",
   "metadata": {},
   "source": [
    "# Question 2B (Minimum) (CSC421 - 1 point, CSC581C - 0 point) \n",
    "\n",
    "\n",
    "Explain how the probability estimates for each dictionary word given the review polarity can be combined to form a Naive Bayes classifier. You can look up Bernoulli Bayes model for this simple model where only presence/absence of a word is modeled.\n",
    "\n",
    "Your answer should be a description of the process with equations and a specific example as markdown text NOT python code. You will write the code in the next questinon. "
   ]
  },
  {
   "cell_type": "markdown",
   "metadata": {
    "scrolled": true
   },
   "source": [
    "### Bayes’ Theorem\n",
    "$P(A|B) = \\frac{P(B|A)P(A)}{P(B)}$\n",
    "\n",
    "<h6>Positive Review Proability</h6> \n",
    "\n",
    "$P(POS|review) = a * P(aweful|POS)P(bad|POS)...P(hilarious|POS)P(POS)$\n",
    "\n",
    "<h6>Negative Review Proability</h6> \n",
    "\n",
    "$P(NEG|review) = a * P(aweful|NEG)P(bad|NEG)...P(hilarious|NEG)P(NEG)$\n",
    "\n",
    "<h6>Assumption</h6>\n",
    "\n",
    "$P(NEG) = P(POS) = 1000 / 2000 = 0.5$\n",
    "\n",
    "<h6>Example</h6>\n",
    "\n",
    "review = \"bad grandpa was an awfully hilarious movie. johnny knoxville was enjoyable as always, there wasn't a dull or boring moment. 5/7 great movie\"\n",
    "\n",
    "feature vector for the above review = [1, 1, 1, 1, 0, 1, 1, 1]\n",
    "\n",
    "P(POS|review) = a * (0.034 * 0.28 * 0.054 * 0.025 * (1 - 0.154) * 0.096 * 0.485 * 0.132) * 0.5\n",
    "              = a * 3.341165490432001e-08\n",
    "               \n",
    "P(NEG|review) = a * (0.122 * 0.545 * 0.175 * 0.101 * (1 - 0.086) * 0.054 * 0.32 * 0.059) * 0.5\n",
    "              = a * 5.475549447748801e-07\n",
    "              \n",
    "3.341165490432001e-08 + 5.475549447748801e-07 = 5.809665996792001e-07\n",
    "\n",
    "\n",
    "P(POS|review) = 3.341165490432001e-08 / 5.809665996792001e-07 = 0.05751045743898076 ~ 6%\n",
    "\n",
    "P(NEG|review) = 5.475549447748801e-07 / 5.809665996792001e-07 = 0.9424895425610192 ~ 94%"
   ]
  },
  {
   "cell_type": "markdown",
   "metadata": {},
   "source": [
    "# Question 2C (Expected) 1 point \n",
    "\n",
    "Write Python code for classifying a particular test instance (in our case movie review) following a Bernolli Bayes approach. Your code should calculate the likelihood the review is positive given the correspondng conditional probabilities for each dictionary word as well as the likelihood the review is negative given the corresponding conditional probabilities for each dictionary word. Check that your code works by providing a few example cases of prediction. Your code should be written from \"scratch\" and only use numpy/scipy but not machine learning libraries like scikit-learn or tensorflow. \n"
   ]
  },
  {
   "cell_type": "code",
   "execution_count": 19,
   "metadata": {
    "scrolled": true
   },
   "outputs": [
    {
     "name": "stdout",
     "output_type": "stream",
     "text": [
      "review 1: (0.05751045743898076, 0.9424895425610192)\n",
      "review 2: (0.2987254534254119, 0.7012745465745882)\n",
      "review 3: (0.9235529619927509, 0.07644703800724907)\n"
     ]
    }
   ],
   "source": [
    "def classify(review):\n",
    "    pos = [0.034, 0.28, 0.054, 0.025, 0.154, 0.096, 0.485, 0.132]\n",
    "    neg = [0.122, 0.545, 0.175, 0.101, 0.086, 0.054, 0.32, 0.059]\n",
    "    \n",
    "    review = review.lower()\n",
    "    vector = np.array([1 if word in review else 0 for word in words])\n",
    "    \n",
    "    p, n = 0.5, 0.5 # P(POS), P(NEG) \n",
    "    for word, p_pos, p_neg in zip(vector, pos, neg):\n",
    "        p *= p_pos if word else (1 - p_pos)\n",
    "        n *= p_neg if word else (1 - p_neg)\n",
    "    \n",
    "    return p / (p + n), n / (p + n)\n",
    "\n",
    "review_1 = \"bad grandpa was an awfully hilarious movie. johnny knoxville was enjoyable as always, there wasn't a dull or boring moment. 5/7 great movie\"\n",
    "print(f'review 1: {classify(review_1)}')   \n",
    "\n",
    "review_2 = \"avatar was bad, awful, and an effective waste of $20, the only redeeming quaility was the great 3d effects\"\n",
    "print(f'review 2: {classify(review_2)}')\n",
    "\n",
    "review_3 = \"toy story 4 was a fantastic movie. it was a great way to wrap up the story. the ending was enjoyable yet sad. the toys antics were hilarious as always\"\n",
    "print(f'review 3: {classify(review_3)}')"
   ]
  },
  {
   "cell_type": "markdown",
   "metadata": {},
   "source": [
    "# QUESTION 2D (Expected ) 1 point"
   ]
  },
  {
   "cell_type": "markdown",
   "metadata": {},
   "source": [
    "Calculate the classification accuracy and confusion matrix that you would obtain using the whole data set for both training and testing. Do not use machine learning libraries like scikit-learn or tensorflow for this only the basic numpy/scipy stuff. "
   ]
  },
  {
   "cell_type": "code",
   "execution_count": 31,
   "metadata": {},
   "outputs": [
    {
     "name": "stdout",
     "output_type": "stream",
     "text": [
      "classification accuracy: 0.6705\n",
      "confusion matrix:\n",
      "[720.0, 280.0]\n",
      "[621.0, 379.0]\n"
     ]
    }
   ],
   "source": [
    "def classification_accuracy():\n",
    "    matrix = np.zeros((2, 2))\n",
    "    for s, d, files in os.walk('txt_sentoken'):\n",
    "        for file in files:\n",
    "            with open(s + os.sep + file) as f:\n",
    "                pos, neg = classify(f.read().lower())\n",
    "                if 'pos' in s:\n",
    "                    if pos > neg:\n",
    "                        matrix[0][0] += 1\n",
    "                    else:\n",
    "                        matrix[0][1] += 1\n",
    "                else:\n",
    "                    if neg > pos:\n",
    "                        matrix[1][0] += 1\n",
    "                    else:\n",
    "                        matrix[1][1] += 1\n",
    "                        \n",
    "    accuracy = (matrix[0][0] + matrix[1][0]) / sum(sum(matrix))                \n",
    "    return accuracy, matrix\n",
    "                 \n",
    "a, m = classification_accuracy()\n",
    "\n",
    "print(f'classification accuracy: {a}')\n",
    "print('confusion matrix:')\n",
    "print(m.tolist()[0])\n",
    "print(m.tolist()[1])"
   ]
  },
  {
   "cell_type": "markdown",
   "metadata": {},
   "source": [
    "# QUESTION 2E (Advanced) 1 point \n",
    "\n",
    "One can consider the Naive Bayes classifier a generative model that can generate binary feature vectors using the associated probabilities from the training data. The idea is similar to how we do direct sampling in\n",
    "Bayesian Networks and depends on generating random number from a discrete distribution. Describe how you would generate random movie reviews consisting solely of the words from the dictionary using your model. Show 5 examples of randomly generated positive reviews and 5 examples of randomly generated negative reviews. Each example should consists of a subset of the words in the dictionary. Hint: use probabilities to generate both the presence and absence of a word"
   ]
  },
  {
   "cell_type": "code",
   "execution_count": 63,
   "metadata": {},
   "outputs": [
    {
     "name": "stdout",
     "output_type": "stream",
     "text": [
      "positive reviews:\n",
      "[['awful', 'great'], [], ['enjoyable', 'great'], ['bad', 'effective', 'great'], ['awful']]\n",
      "\n",
      "negative reviews:\n",
      "[['bad', 'great'], ['bad', 'boring'], ['bad'], ['bad', 'hilarious'], ['bad', 'great']]\n"
     ]
    }
   ],
   "source": [
    "# 1. generate an array of probabilities for each word\n",
    "# 2. if the probability of the word is greater than the random probability \n",
    "#        3a. include the word\n",
    "#    else\n",
    "#        3b. exclude the word\n",
    "#\n",
    "# Note:\n",
    "#       this only generates an array of words likely to be in the review\n",
    "#\n",
    "#       the implimentation below slightly changes the described implimentation using list comprehension\n",
    "\n",
    "def generate_review(polarity):\n",
    "    prob = None\n",
    "    if polarity == 'pos':\n",
    "        prob = [0.034, 0.28, 0.054, 0.025, 0.154, 0.096, 0.485, 0.132]\n",
    "    else:\n",
    "        prob = [0.122, 0.545, 0.175, 0.101, 0.086, 0.054, 0.32, 0.059]\n",
    "    \n",
    "    v = [1 if random() < p else 0 for p in prob]\n",
    "\n",
    "    review = []\n",
    "    for result, word in zip(v, words):\n",
    "        if result:\n",
    "            review.append(word)\n",
    "    \n",
    "    return review\n",
    "\n",
    "pos = [generate_review('pos') for i in range(5)]\n",
    "neg = [generate_review('neg') for i in range(5)]\n",
    "\n",
    "\n",
    "print('positive reviews:')\n",
    "print(pos)\n",
    "print()\n",
    "print('negative reviews:')\n",
    "print(neg)\n"
   ]
  },
  {
   "cell_type": "markdown",
   "metadata": {},
   "source": [
    "# QUESTION 2F (ADVANCED) (CSC421 - 0 points, CSC581C - 2 points)\n",
    "\n",
    "Check the associated README file and see what convention is used for the 10-fold cross-validation. Calculate the classification accuracy and confusion matrix using the recommended 10-fold cross-validation. Again do NOT use \n",
    "ML libraries such as scikit-learn or tensorflow and just use numpy/scipy. "
   ]
  },
  {
   "cell_type": "code",
   "execution_count": 50,
   "metadata": {},
   "outputs": [],
   "source": [
    "# YOUR CODE GOES HERE "
   ]
  }
 ],
 "metadata": {
  "kernelspec": {
   "display_name": "Python 3",
   "language": "python",
   "name": "python3"
  },
  "language_info": {
   "codemirror_mode": {
    "name": "ipython",
    "version": 3
   },
   "file_extension": ".py",
   "mimetype": "text/x-python",
   "name": "python",
   "nbconvert_exporter": "python",
   "pygments_lexer": "ipython3",
   "version": "3.6.8"
  }
 },
 "nbformat": 4,
 "nbformat_minor": 1
}
