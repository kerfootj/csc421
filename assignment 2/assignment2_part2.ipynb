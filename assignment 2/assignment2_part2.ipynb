{
 "cells": [
  {
   "cell_type": "markdown",
   "metadata": {},
   "source": [
    "# CSC421 Assignment 2 - Part II  First-Order Logic (5 points) #\n",
    "### Author: George Tzanetakis \n",
    "\n",
    "This notebook is based on the supporting material for topics covered in **Chapter 7 - Logical Agents** from the book *Artificial Intelligence: A Modern Approach.* You can consult and modify the code provided in logic.py and logic.ipynb for completing the assignment questions. This part does rely on the provided code. \n",
    "\n",
    "```\n",
    "Birds can fly, unless they are penguins and ostriches, or if they happen \n",
    "to be dead, or have broken wings, or are confined to cages, or have their \n",
    "feet stuck in cement, or have undergone experiences so dreadful as to render \n",
    "them psychologically incapable of flight \n",
    "\n",
    "Marvin Minsky \n",
    "```"
   ]
  },
  {
   "cell_type": "markdown",
   "metadata": {},
   "source": [
    "# Introduction - First-Order Logic and knowledge engineering \n",
    "\n",
    "In this assignment we explore First-Order Logic (FOL) using the implementation of knowledge base and first-order inference provided by the textbook authors. We also look into matching a limited form of unification. \n",
    "\n",
    "**NOTE THAT THE GRADING IN THIS ASSIGNMENT IS DIFFERENT FOR GRADUATE STUDENTS AND THEY HAVE TO DO EXTRA WORK FOR FULL MARKS**\n"
   ]
  },
  {
   "cell_type": "markdown",
   "metadata": {},
   "source": [
    "# Question 2A (Minimum) (CSC421 -  1 point, CSC581C - 0 points) \n",
    "\n",
    "Consider the following propositional logic knowledge base. \n",
    "\n",
    "* It is not sunny this afternoon and it is colder than yesterday.\n",
    "* We will go swimming only if it is sunny.\n",
    "* If we do not go swimming then we will take a canoe trip.\n",
    "* If we take a canoe trip, then we will be home by sunset.\n",
    "\n",
    "\n",
    "Denote:\n",
    "\n",
    "\n",
    "* p = It is sunny this afternoon\n",
    "* q = it is colder than yesterday\n",
    "* r = We will go swimming\n",
    "* s= we will take a canoe trip\n",
    "* t= We will be home by sunset\n",
    "\n",
    "Express this knowledge base using propositional logic using the expression syntax used in logic.ipynb. You can incoprorate any code you need from logic.ipynb and logic.py. In order to access the associated code the easiest way is to place your notebook in the same folder as the aima_python source code. Using both model checking and theorem proving inference (you can use the implementations provided) show that this knowledge base entails the sentence if it is not sunny this afternoon then we will be home by sunset. "
   ]
  },
  {
   "cell_type": "code",
   "execution_count": 1,
   "metadata": {},
   "outputs": [],
   "source": [
    "from utils import *\n",
    "from logic import *"
   ]
  },
  {
   "cell_type": "code",
   "execution_count": 2,
   "metadata": {},
   "outputs": [
    {
     "name": "stdout",
     "output_type": "stream",
     "text": [
      "True\n"
     ]
    }
   ],
   "source": [
    "kb = PropKB()\n",
    "\n",
    "p, q, r, s, t = expr('p, q, r, s, t')\n",
    "\n",
    "kb.tell(~p)\n",
    "kb.tell(q)\n",
    "kb.tell(expr('p <=> r'))\n",
    "kb.tell(expr('~r ==> s'))\n",
    "kb.tell(expr('s ==> t'))\n",
    "\n",
    "qry = expr('~p ==> t')\n",
    "print(pl_resolution(kb, qry))\n"
   ]
  },
  {
   "cell_type": "markdown",
   "metadata": {},
   "source": [
    "# Question 2B (Minimum) (CSC421 - 1 point, CSC581C - 0 point) \n",
    "\n",
    "Encode the kindship domain described in section 8.3.2 of the textbook using FOL and FolKB implementation in logic.ipynb and encode as facts the relationships between the members of the Simpsons family from the popular TV show:  \n",
    "\n",
    "https://en.wikipedia.org/wiki/Simpson_family\n",
    "\n",
    "\n",
    "Show how the following queries can be answered using the KB: \n",
    "\n",
    "* Who are the children of Homer ? \n",
    "* Who are the parents of Bart ? \n",
    "* Are Lisa and Homer siblings ? \n",
    "* Are Lisa and Bart siblings ? \n"
   ]
  },
  {
   "cell_type": "code",
   "execution_count": 47,
   "metadata": {
    "scrolled": true
   },
   "outputs": [
    {
     "name": "stdout",
     "output_type": "stream",
     "text": [
      "Who are the children of Homer?\n",
      "[{x: Maggie}, {x: Bart}, {x: Lisa}, {x: Abe}]\n",
      "\n",
      "Who are the parents of Bart?\n",
      "[{x: Homer}, {x: Marge}]\n",
      "\n",
      "Lisa siblings:\n",
      "[{x: Maggie}, {x: Bart}, {x: Lisa}, {x: Abe}]\n"
     ]
    }
   ],
   "source": [
    "def remove_self(l):\n",
    "    return list(filter(lambda item: item[x] != item[y], l))\n",
    "\n",
    "def ask(kb, qry, clean=False):\n",
    "    if clean:\n",
    "        remove_self(fol_fc_ask(kb, qry))\n",
    "    return list(fol_fc_ask(kb, qry))\n",
    "\n",
    "clauses = []\n",
    "clauses.append(expr(\"Female(m) & Parent(m, c) ==> Mother(c)\"))\n",
    "clauses.append(expr(\"Male(h) & Spouse(h, w) ==> Husband(h, w)\"))\n",
    "\n",
    "clauses.append(expr(\"Parent(p, c) ==> Child(c, p)\"))\n",
    "clauses.append(expr(\"Child(c, p) ==> Parent(p, c)\"))\n",
    "\n",
    "clauses.append(expr(\"Parent(g, p) & Parent(p, c) ==> Grandparent(g, c)\"))\n",
    "\n",
    "clauses.append(expr(\"Parent(p, x) & Parent(p, y) ==> Sibiling(x, y)\"))\n",
    "\n",
    "# ♫ The Simpsons ♫\n",
    "clauses.append(expr(\"Parent(Abe, Homer)\"))\n",
    "\n",
    "clauses.append(expr(\"Parent(Homer, Bart)\"))\n",
    "clauses.append(expr(\"Parent(Homer, Lisa)\"))\n",
    "clauses.append(expr(\"Parent(Homer, Maggie)\"))\n",
    "\n",
    "clauses.append(expr(\"Parent(Marge, Bart)\"))\n",
    "clauses.append(expr(\"Parent(Marge, Lisa)\"))\n",
    "clauses.append(expr(\"Parent(Marge, Maggie)\"))\n",
    "\n",
    "clauses.append(expr(\"Parent(c, p) ==> Child(c, p)\"))\n",
    "\n",
    "family_kb = FolKB(clauses)\n",
    "\n",
    "print(\"Who are the children of Homer?\")\n",
    "print(ask(family_kb, expr(\"Child(x, Homer)\")))\n",
    "\n",
    "print(\"\\nWho are the parents of Bart?\")\n",
    "print(ask(family_kb, expr(\"Parent(x, Bart)\")))\n",
    "\n",
    "print(\"\\nLisa siblings:\")\n",
    "print(ask(family_kb, expr(\"Sibiling(Lisa, x)\")))"
   ]
  },
  {
   "cell_type": "markdown",
   "metadata": {},
   "source": [
    "# Question 2C (Expected) 1 point \n",
    "\n",
    "\n",
    "Encode the electronic circuit domain described in section 8.4.2 of your textbook using the FolKB implementation in logics.ipynb. Encode the general knowledge of the domain as well as the specific problem instance shown in Figure 8.6. Post the same queries described by the book to the inference procedure. "
   ]
  },
  {
   "cell_type": "code",
   "execution_count": 49,
   "metadata": {},
   "outputs": [
    {
     "ename": "SyntaxError",
     "evalue": "invalid syntax (<string>, line 1)",
     "output_type": "error",
     "traceback": [
      "Traceback \u001b[0;36m(most recent call last)\u001b[0m:\n",
      "  File \u001b[1;32m\"/home/joel/.local/lib/python3.6/site-packages/IPython/core/interactiveshell.py\"\u001b[0m, line \u001b[1;32m3319\u001b[0m, in \u001b[1;35mrun_code\u001b[0m\n    exec(code_obj, self.user_global_ns, self.user_ns)\n",
      "  File \u001b[1;32m\"<ipython-input-49-22eb703f1624>\"\u001b[0m, line \u001b[1;32m3\u001b[0m, in \u001b[1;35m<module>\u001b[0m\n    clauses.append(expr(\"Terminal(x) & Terminal(y) & Connected(x,y) ==> Signal (x) = Signal (y)\"))\n",
      "\u001b[0;36m  File \u001b[0;32m\"/home/joel/Documents/csc421/aima-python/utils.py\"\u001b[0;36m, line \u001b[0;32m682\u001b[0;36m, in \u001b[0;35mexpr\u001b[0;36m\u001b[0m\n\u001b[0;31m    return eval(expr_handle_infix_ops(x), defaultkeydict(Symbol)) if isinstance(x, str) else x\u001b[0m\n",
      "\u001b[0;36m  File \u001b[0;32m\"<string>\"\u001b[0;36m, line \u001b[0;32m1\u001b[0m\n\u001b[0;31m    Terminal(x) & Terminal(y) & Connected(x,y) |'==>'| Signal (x) = Signal (y)\u001b[0m\n\u001b[0m                                                                  ^\u001b[0m\n\u001b[0;31mSyntaxError\u001b[0m\u001b[0;31m:\u001b[0m invalid syntax\n"
     ]
    }
   ],
   "source": [
    "clauses = []\n",
    "\n",
    "clauses.append(expr(\"Terminal(x) & Terminal(y) & Connected(x,y) ==> Signal (x) = Signal (y)\"))\n",
    "\n",
    "circuit_kb = FolKB(clauses)"
   ]
  },
  {
   "cell_type": "markdown",
   "metadata": {},
   "source": [
    "# QUESTION 1D (EXPECTED) 1 point\n",
    "\n",
    "In this question we explore Prolog which is a programming language based on logic. We won't go into details but just wanted to give you a flavor of the syntax and how it connects to what we have learned. For this question you \n",
    "will NOT be using the notebook so your answer should just be the source code. We will use http://tau-prolog.org/ which is a Prolog implementation that can run in a browser. When you access the webpage there is a text window labeled try it for entering your knowledge base and under it there is a text entry field for entering your query. \n",
    "\n",
    "For example type in the Try it window and press enter: \n",
    "\n",
    "```Prolog\n",
    "likes(sam, salad).\n",
    "likes(dean, pie).\n",
    "likes(sam, apples).\n",
    "likes(dean, whiskey).\n",
    "```\n",
    "\n",
    "Then enter the query: \n",
    "```Prolog \n",
    "likes(sam,X).\n",
    "```\n",
    "When you press Enter once you will get X=apples. and X=salad. Note the periods at the end of each statement. \n",
    "\n",
    "Encode the kinship domain from question 2B in Prolog and answer the queries from 2B. Notice that in Prolog the constants start with lower case letters and the variables start with upper case letters.\n",
    "\n",
    "Provide your code for the KB and queries using markup. See the syntax for Prolog of this cell by double clicking for editing. \n",
    "\n"
   ]
  },
  {
   "cell_type": "markdown",
   "metadata": {},
   "source": [
    "Knowlege Base\n",
    "```Prolog\n",
    ":-use_module(library(lists)).\n",
    "\n",
    "mother(marge, bart).\n",
    "mother(marge, lisa).\n",
    "mother(marge, maggie).\n",
    "father(homer, bart).\n",
    "father(homer, lisa).\n",
    "father(homer, maggie).\n",
    "father(abe, homer).\n",
    "\n",
    "parent(P, C) :- father(P, C).\n",
    "parent(P, C) :- mother(P, C).\n",
    "\n",
    "sibiling(X, Y) :- parent(P, X), parent(P, Y), X \\= Y.\n",
    "\n",
    "child(C, P) :- parent(P, C).\n",
    "\n",
    "grandparent(G, C) :- parent(G, P), parent(P, C).\n",
    "```\n",
    "\n",
    "Queries:\n",
    "```Prolog\n",
    "?- child(X,homer).\n",
    "X = maggie.\n",
    "X = lisa.\n",
    "X = bart.\n",
    "\n",
    "?- parent(X,bart).\n",
    "X = marge.\n",
    "X = homer.\n",
    "\n",
    "?- sibiling(homer, lisa).\n",
    "false.\n",
    "\n",
    "?- sibiling(bart, lisa).\n",
    "true.\n",
    "```"
   ]
  },
  {
   "cell_type": "markdown",
   "metadata": {},
   "source": [
    "# QUESTION 1E (ADVANCED) 1 point \n",
    "\n",
    "Implement exercise 8.26 using the code in logic.ipynb as well as the KB you wrote for the circuit domain. \n",
    "\n",
    "\n"
   ]
  },
  {
   "cell_type": "code",
   "execution_count": 7,
   "metadata": {},
   "outputs": [],
   "source": [
    "# YOUR CODE GOES HERE \n"
   ]
  },
  {
   "cell_type": "markdown",
   "metadata": {},
   "source": [
    "# QUESTION 1F (ADVANCED) (CSC421 - 0 points, CSC581C - 2 points)\n",
    "\n",
    "\n",
    "This question explores the automatic constructions of a first-order logic knowledge base from a web resource and is more open ended than the other ones. The website https://www.songfacts.com/ contains a large variety of facts about music. Check the https://www.songfacts.com/categories link for some categories. Using selenium Python bindings https://selenium-python.readthedocs.io/ access the webpage and scrape at least three categories. Your code should scrape the information from the pages and convert it into relationships and facts in first-order logic using the syntax of expressions in logic.ipynb. Once you build your knowledge-base then write 4 non-trivial queries that show-case the expressiveness of FOL. These queries should not be possible to be answered easily using the web interface i.e they should have some logical connectives, more than one possible answer etc. \n",
    "The translation of the song facts from the web page to FOL should NOT be done by hand but using the web scraping tool you develop. You can use multiple cells in your answer. \n",
    "\n",
    "\n"
   ]
  },
  {
   "cell_type": "code",
   "execution_count": 8,
   "metadata": {},
   "outputs": [],
   "source": [
    "# YOUR CODE GOES HERE "
   ]
  },
  {
   "cell_type": "code",
   "execution_count": null,
   "metadata": {},
   "outputs": [],
   "source": []
  }
 ],
 "metadata": {
  "kernelspec": {
   "display_name": "Python 3",
   "language": "python",
   "name": "python3"
  },
  "language_info": {
   "codemirror_mode": {
    "name": "ipython",
    "version": 3
   },
   "file_extension": ".py",
   "mimetype": "text/x-python",
   "name": "python",
   "nbconvert_exporter": "python",
   "pygments_lexer": "ipython3",
   "version": "3.6.8"
  }
 },
 "nbformat": 4,
 "nbformat_minor": 1
}
