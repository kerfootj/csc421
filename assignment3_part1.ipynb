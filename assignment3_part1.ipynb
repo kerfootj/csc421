{
 "cells": [
  {
   "attachments": {
    "monopoly.jpeg": {
     "image/jpeg": "[encoded data removed]"
    }
   },
   "cell_type": "markdown",
   "metadata": {},
   "source": [
    "# CSC421 Assignment 3 - Part I  Simulation and Probabilities (5 points) #\n",
    "### Author: George Tzanetakis \n",
    "\n",
    "This notebook is based on the supporting material for topics covered in **Chapter 13 Quantifying Uncertainty** from the book *Artificial Intelligence: A Modern Approach.* This part does NOT rely on the provided code so you can complete it just using basic Python. \n",
    "\n",
    "```\n",
    "Misunderstanding of probability may be the greatest of all impediments\n",
    "to scientific literacy.\n",
    "\n",
    "Gould, Stephen Jay\n",
    "```\n",
    "\n",
    "![monopoly.jpeg](attachment:monopoly.jpeg)\n"
   ]
  },
  {
   "cell_type": "markdown",
   "metadata": {},
   "source": [
    "# Introduction - Simulation for approximate estimation of probabilities \n",
    "\n",
    "In this assignment your task is to incrementally create a simulation for the board game Monopoly\n",
    "https://en.wikipedia.org/wiki/Monopoly_(game). Very interesting origin story for the game: \n",
    "https://www.saturdayeveningpost.com/2017/09/really-invented-monopoly/\n",
    "\n",
    "\n",
    "**NOTE THAT THE GRADING IN THIS ASSIGNMENT IS DIFFERENT FOR GRADUATE STUDENTS AND THEY HAVE TO DO EXTRA WORK FOR FULL MARKS**\n",
    "\n",
    "Consider simulating a game of Monopoly. Your goal is to experimentally determine the cummulative probability of landing on each square following the rules of the game after 100 moves. By cummulative I mean the total\n",
    "number of times you land on a square during a play. So for example if you land on the Free Parking square 5 times during the 100 moves in a particular run of the simulation then the probability of landing on that square is 5/100.\n",
    "\n",
    "To get accurate probabilities you will have to run 1000 simulated games. You can assume that you are only a considering a single player and you ignore buying/selling property. You will need to simulate chance cards, rolling the dice including doubles, and going to jail. The following article has some\n",
    "information you can use in your simulation http://www.businessinsider.com/math-monopoly-statistics-2013-6.\n",
    "\n",
    "You can use the random variables and probability notebook code we covered in class or directly implement the random sampling to simulate playing the Monopoly game 1000 times and show on a table what is the probability of landing in each railway station, the GO square, Mediterenean Avenue and Boardwalk. The questions below break this problem into incremental steps. \n"
   ]
  },
  {
   "cell_type": "markdown",
   "metadata": {},
   "source": [
    "# Question 1A (Minimum) CSC421 -  (1 point, CSC581C - 0 points) \n",
    "\n",
    "Write code to generate random numbers corresponding to rolling a pair of dice and summing the output taking into account the doubling rule (when you roll doubles you get to roll again). Include all the code with comments describing what you are doing. "
   ]
  },
  {
   "cell_type": "code",
   "execution_count": 143,
   "metadata": {},
   "outputs": [],
   "source": [
    "import numpy as np\n",
    "from random import randint\n",
    "from tabulate import tabulate\n",
    "from ipythonblocks import BlockGrid"
   ]
  },
  {
   "cell_type": "code",
   "execution_count": 144,
   "metadata": {},
   "outputs": [],
   "source": [
    "def roll():\n",
    "    moves = []\n",
    "    # Allowed at most 3 rolls\n",
    "    for i in range(3):\n",
    "        x = randint(1, 6)\n",
    "        y = randint(1, 6)\n",
    "        moves.append(x + y)\n",
    "        # Not a double turn over\n",
    "        if x != y:\n",
    "            break\n",
    "        # 3 doubles go to jail (speeding)\n",
    "        if i == 2:\n",
    "            moves[2] = -1\n",
    "            break            \n",
    "    return moves   \n",
    "\n",
    "# simplification of needing to roll doubles to get out of jail\n",
    "def roll_double():\n",
    "    return [randint(1, 6) * 2]"
   ]
  },
  {
   "cell_type": "markdown",
   "metadata": {},
   "source": [
    "# Question 1B (Minimum) (CSC421 - 1 point, CSC581C - 0 point) \n",
    "\n",
    "Write code for selecting a chance card at random based on the information provided in the article about the math of Monopoly. The chance cards that are not about movement will be ignored in this assignment but you should still \n",
    "simulate them. "
   ]
  },
  {
   "cell_type": "code",
   "execution_count": 145,
   "metadata": {
    "scrolled": true
   },
   "outputs": [],
   "source": [
    "def chance(location):\n",
    "    i = randint(1, 16)\n",
    "    # advance to go collect $200\n",
    "    if i == 1:\n",
    "        return  0\n",
    "    # go to jail\n",
    "    if i == 2:\n",
    "        return 10\n",
    "    # nearest utiliy\n",
    "    if i == 3:\n",
    "        if location == 7 or location == 36:\n",
    "            return 12\n",
    "        return 28\n",
    "    # nearest railroad\n",
    "    if i == 4:\n",
    "        if location == 7:\n",
    "            return 15\n",
    "        if location == 22:\n",
    "            return 25\n",
    "        return 5\n",
    "    # take a trip to Reading Railroad\n",
    "    if i == 5:\n",
    "        return 5\n",
    "    # take a walk on the Boardwalk\n",
    "    if i == 6:\n",
    "        return 39\n",
    "    # advance to St. Charles Place\n",
    "    if i == 7:\n",
    "         return 11\n",
    "    # advance to Illinois Ave\n",
    "    if i == 8:\n",
    "        return 24\n",
    "    # back 3 spaces\n",
    "    if i == 9:\n",
    "        return -3\n",
    "    # remainder of cards aren't movement\n",
    "    return -1\n",
    "    \n",
    "def community_chest():\n",
    "    i = randint(1, 16)\n",
    "    # advance to go collect $200\n",
    "    if i == 1:\n",
    "        return  0\n",
    "    # go to jail\n",
    "    if i == 2:\n",
    "        return 10\n",
    "    # remainder of cards aren't movement\n",
    "    return -1\n"
   ]
  },
  {
   "cell_type": "markdown",
   "metadata": {},
   "source": [
    "# Question 1C (Expected) 1 point \n",
    "\n",
    "Write code to simulate movement around the board for one player with rolling pair of dice as well as the doubling rule. For this question you don't need to simulate go to jail and chance cards (you will do that in the next question) \n"
   ]
  },
  {
   "cell_type": "code",
   "execution_count": 146,
   "metadata": {
    "scrolled": true
   },
   "outputs": [
    {
     "name": "stdout",
     "output_type": "stream",
     "text": [
      "[0. 3. 4. 6. 3. 2. 3. 2. 4. 1. 4. 5. 3. 2. 4. 4. 1. 5. 4. 3. 2. 3. 4. 3.\n",
      " 2. 4. 6. 0. 3. 4. 3. 0. 4. 5. 4. 2. 5. 3. 3. 3.]\n"
     ]
    }
   ],
   "source": [
    "# assumption: when rolling 3 doubles in a row the last roll is ignored rahter than going to jail \n",
    "def simple_movement():\n",
    "    location = 0\n",
    "    locations = np.zeros(40)\n",
    "    # turns\n",
    "    for i in range(100):\n",
    "        moves = roll()\n",
    "        for m in moves:\n",
    "            if m != -1:\n",
    "                location = (location + m) % 40\n",
    "                locations[location] += 1\n",
    "    print(locations)\n",
    "    \n",
    "simple_movement()\n",
    "        "
   ]
  },
  {
   "cell_type": "markdown",
   "metadata": {},
   "source": [
    "# QUESTION 1D (EXPECTED) 1 point"
   ]
  },
  {
   "cell_type": "markdown",
   "metadata": {},
   "source": [
    "Add the code for go to jail and chance cards. Record how many times you land on\n",
    "each square after playing a game consisting of 100 moves. Run the simulation 1000 times \n",
    "and average the landing results. Show in a table the following probabilities: each railway station, the GO square, Mediterenean Avenue and Boardwalk.\n",
    "\n"
   ]
  },
  {
   "cell_type": "code",
   "execution_count": 147,
   "metadata": {},
   "outputs": [
    {
     "name": "stdout",
     "output_type": "stream",
     "text": [
      "Square               Probability\n",
      "-----------------  -------------\n",
      "Reading Railroad       0.0267728\n",
      "Pennsylvania Line      0.0229437\n",
      "B&O Railroad           0.0256766\n",
      "Short Line             0.021542\n",
      "GO                     0.0285582\n",
      "Mediterenean Ave       0.0197253\n",
      "Boardwalk              0.0241026\n"
     ]
    }
   ],
   "source": [
    "def simulate(tries=1000, turns=100):\n",
    "    board = np.zeros(40)\n",
    "    jail_time = 0\n",
    "    for t in range(tries):\n",
    "        location = 0\n",
    "        jailed = False\n",
    "        for turn in range(turns):\n",
    "            moves = None\n",
    "            if jailed:\n",
    "                moves = roll_double()\n",
    "                jail_time += 1\n",
    "                jailed = False\n",
    "            else:\n",
    "                moves = roll()\n",
    "            for m in moves:\n",
    "                # speeding\n",
    "                if m == -1:\n",
    "                    location = 10\n",
    "                    board[location] += 1\n",
    "                    jailed = True\n",
    "                else:\n",
    "                    location = (location + m) % 40\n",
    "                    board[location] += 1\n",
    "                    \n",
    "                    # go to jail\n",
    "                    if location == 30:\n",
    "                        location = 10\n",
    "                        board[location] += 1\n",
    "                        jailed = True\n",
    "                    \n",
    "                    # chance\n",
    "                    if location in [7, 22, 36]:\n",
    "                        c = chance(location)\n",
    "                        if c == -3:\n",
    "                            location = location - 3\n",
    "                            board[location] += 1\n",
    "                        if c >= 0:\n",
    "                            location = c\n",
    "                            board[location] += 1\n",
    "                            if c == 10:\n",
    "                                jailed = True\n",
    "                    \n",
    "                    # community chest\n",
    "                    if location in [2, 17, 33]:\n",
    "                        c = community_chest()\n",
    "                        if c >= 0:\n",
    "                            location = c\n",
    "                            board[location] += 1\n",
    "                            if c == 10:\n",
    "                                jailed = True\n",
    "    \n",
    "    return ([x / tries for x in board], jail_time / 1000)\n",
    "\n",
    "results = simulate()[0]\n",
    "prob = [x / sum(results) for x in results]\n",
    "\n",
    "print(tabulate([\n",
    "    ['Reading Railroad', prob[5]], \n",
    "    ['Pennsylvania Line', prob[15]], \n",
    "    ['B&O Railroad', prob[25]],\n",
    "    ['Short Line', prob[35]],\n",
    "    ['GO', prob[0]],\n",
    "    ['Mediterenean Ave', prob[1]],\n",
    "    ['Boardwalk', prob[39]]],\n",
    "    headers=['Square', 'Probability']\n",
    "))\n"
   ]
  },
  {
   "cell_type": "markdown",
   "metadata": {},
   "source": [
    "# QUESTION 1E (ADVANCED) 1 point \n",
    "\n",
    "Write code that visualizes the board and associated probabilities in color using some kind of colormap. You can use any Python library for handling this. Some possibilities with different tradeoffs include ipythonblocks, bokeh, and PyGame. "
   ]
  },
  {
   "cell_type": "code",
   "execution_count": 150,
   "metadata": {},
   "outputs": [
    {
     "name": "stdout",
     "output_type": "stream",
     "text": [
      "Monopoly Board with Colored Properties\n"
     ]
    },
    {
     "data": {
      "text/html": [
       "<style type=\"text/css\">table.blockgrid {border: none;} .blockgrid tr {border: none;} .blockgrid td {padding: 0px;} #blockscf8d0073-6ac9-47f7-9b2a-4ce63013d71c td {border: 1px solid white;}</style><table id=\"blockscf8d0073-6ac9-47f7-9b2a-4ce63013d71c\" class=\"blockgrid\"><tbody><tr><td title=\"Index: [0, 0]&#10;Color: (220, 220, 220)\" style=\"width: 20px; height: 20px;background-color: rgb(220, 220, 220);\"></td><td title=\"Index: [0, 1]&#10;Color: (236, 27, 32)\" style=\"width: 20px; height: 20px;background-color: rgb(236, 27, 32);\"></td><td title=\"Index: [0, 2]&#10;Color: (220, 220, 220)\" style=\"width: 20px; height: 20px;background-color: rgb(220, 220, 220);\"></td><td title=\"Index: [0, 3]&#10;Color: (236, 27, 32)\" style=\"width: 20px; height: 20px;background-color: rgb(236, 27, 32);\"></td><td title=\"Index: [0, 4]&#10;Color: (236, 27, 32)\" style=\"width: 20px; height: 20px;background-color: rgb(236, 27, 32);\"></td><td title=\"Index: [0, 5]&#10;Color: (0, 0, 0)\" style=\"width: 20px; height: 20px;background-color: rgb(0, 0, 0);\"></td><td title=\"Index: [0, 6]&#10;Color: (255, 239, 0)\" style=\"width: 20px; height: 20px;background-color: rgb(255, 239, 0);\"></td><td title=\"Index: [0, 7]&#10;Color: (255, 239, 0)\" style=\"width: 20px; height: 20px;background-color: rgb(255, 239, 0);\"></td><td title=\"Index: [0, 8]&#10;Color: (255, 255, 255)\" style=\"width: 20px; height: 20px;background-color: rgb(255, 255, 255);\"></td><td title=\"Index: [0, 9]&#10;Color: (255, 239, 0)\" style=\"width: 20px; height: 20px;background-color: rgb(255, 239, 0);\"></td><td title=\"Index: [0, 10]&#10;Color: (220, 220, 220)\" style=\"width: 20px; height: 20px;background-color: rgb(220, 220, 220);\"></td></tr><tr><td title=\"Index: [1, 0]&#10;Color: (245, 148, 28)\" style=\"width: 20px; height: 20px;background-color: rgb(245, 148, 28);\"></td><td title=\"Index: [1, 1]&#10;Color: (206, 230, 208)\" style=\"width: 20px; height: 20px;background-color: rgb(206, 230, 208);\"></td><td title=\"Index: [1, 2]&#10;Color: (206, 230, 208)\" style=\"width: 20px; height: 20px;background-color: rgb(206, 230, 208);\"></td><td title=\"Index: [1, 3]&#10;Color: (206, 230, 208)\" style=\"width: 20px; height: 20px;background-color: rgb(206, 230, 208);\"></td><td title=\"Index: [1, 4]&#10;Color: (206, 230, 208)\" style=\"width: 20px; height: 20px;background-color: rgb(206, 230, 208);\"></td><td title=\"Index: [1, 5]&#10;Color: (206, 230, 208)\" style=\"width: 20px; height: 20px;background-color: rgb(206, 230, 208);\"></td><td title=\"Index: [1, 6]&#10;Color: (206, 230, 208)\" style=\"width: 20px; height: 20px;background-color: rgb(206, 230, 208);\"></td><td title=\"Index: [1, 7]&#10;Color: (206, 230, 208)\" style=\"width: 20px; height: 20px;background-color: rgb(206, 230, 208);\"></td><td title=\"Index: [1, 8]&#10;Color: (206, 230, 208)\" style=\"width: 20px; height: 20px;background-color: rgb(206, 230, 208);\"></td><td title=\"Index: [1, 9]&#10;Color: (206, 230, 208)\" style=\"width: 20px; height: 20px;background-color: rgb(206, 230, 208);\"></td><td title=\"Index: [1, 10]&#10;Color: (33, 176, 90)\" style=\"width: 20px; height: 20px;background-color: rgb(33, 176, 90);\"></td></tr><tr><td title=\"Index: [2, 0]&#10;Color: (245, 148, 28)\" style=\"width: 20px; height: 20px;background-color: rgb(245, 148, 28);\"></td><td title=\"Index: [2, 1]&#10;Color: (206, 230, 208)\" style=\"width: 20px; height: 20px;background-color: rgb(206, 230, 208);\"></td><td title=\"Index: [2, 2]&#10;Color: (206, 230, 208)\" style=\"width: 20px; height: 20px;background-color: rgb(206, 230, 208);\"></td><td title=\"Index: [2, 3]&#10;Color: (206, 230, 208)\" style=\"width: 20px; height: 20px;background-color: rgb(206, 230, 208);\"></td><td title=\"Index: [2, 4]&#10;Color: (206, 230, 208)\" style=\"width: 20px; height: 20px;background-color: rgb(206, 230, 208);\"></td><td title=\"Index: [2, 5]&#10;Color: (206, 230, 208)\" style=\"width: 20px; height: 20px;background-color: rgb(206, 230, 208);\"></td><td title=\"Index: [2, 6]&#10;Color: (206, 230, 208)\" style=\"width: 20px; height: 20px;background-color: rgb(206, 230, 208);\"></td><td title=\"Index: [2, 7]&#10;Color: (206, 230, 208)\" style=\"width: 20px; height: 20px;background-color: rgb(206, 230, 208);\"></td><td title=\"Index: [2, 8]&#10;Color: (206, 230, 208)\" style=\"width: 20px; height: 20px;background-color: rgb(206, 230, 208);\"></td><td title=\"Index: [2, 9]&#10;Color: (206, 230, 208)\" style=\"width: 20px; height: 20px;background-color: rgb(206, 230, 208);\"></td><td title=\"Index: [2, 10]&#10;Color: (33, 176, 90)\" style=\"width: 20px; height: 20px;background-color: rgb(33, 176, 90);\"></td></tr><tr><td title=\"Index: [3, 0]&#10;Color: (220, 220, 220)\" style=\"width: 20px; height: 20px;background-color: rgb(220, 220, 220);\"></td><td title=\"Index: [3, 1]&#10;Color: (206, 230, 208)\" style=\"width: 20px; height: 20px;background-color: rgb(206, 230, 208);\"></td><td title=\"Index: [3, 2]&#10;Color: (206, 230, 208)\" style=\"width: 20px; height: 20px;background-color: rgb(206, 230, 208);\"></td><td title=\"Index: [3, 3]&#10;Color: (206, 230, 208)\" style=\"width: 20px; height: 20px;background-color: rgb(206, 230, 208);\"></td><td title=\"Index: [3, 4]&#10;Color: (206, 230, 208)\" style=\"width: 20px; height: 20px;background-color: rgb(206, 230, 208);\"></td><td title=\"Index: [3, 5]&#10;Color: (206, 230, 208)\" style=\"width: 20px; height: 20px;background-color: rgb(206, 230, 208);\"></td><td title=\"Index: [3, 6]&#10;Color: (206, 230, 208)\" style=\"width: 20px; height: 20px;background-color: rgb(206, 230, 208);\"></td><td title=\"Index: [3, 7]&#10;Color: (206, 230, 208)\" style=\"width: 20px; height: 20px;background-color: rgb(206, 230, 208);\"></td><td title=\"Index: [3, 8]&#10;Color: (206, 230, 208)\" style=\"width: 20px; height: 20px;background-color: rgb(206, 230, 208);\"></td><td title=\"Index: [3, 9]&#10;Color: (206, 230, 208)\" style=\"width: 20px; height: 20px;background-color: rgb(206, 230, 208);\"></td><td title=\"Index: [3, 10]&#10;Color: (220, 220, 220)\" style=\"width: 20px; height: 20px;background-color: rgb(220, 220, 220);\"></td></tr><tr><td title=\"Index: [4, 0]&#10;Color: (245, 148, 28)\" style=\"width: 20px; height: 20px;background-color: rgb(245, 148, 28);\"></td><td title=\"Index: [4, 1]&#10;Color: (206, 230, 208)\" style=\"width: 20px; height: 20px;background-color: rgb(206, 230, 208);\"></td><td title=\"Index: [4, 2]&#10;Color: (206, 230, 208)\" style=\"width: 20px; height: 20px;background-color: rgb(206, 230, 208);\"></td><td title=\"Index: [4, 3]&#10;Color: (206, 230, 208)\" style=\"width: 20px; height: 20px;background-color: rgb(206, 230, 208);\"></td><td title=\"Index: [4, 4]&#10;Color: (206, 230, 208)\" style=\"width: 20px; height: 20px;background-color: rgb(206, 230, 208);\"></td><td title=\"Index: [4, 5]&#10;Color: (206, 230, 208)\" style=\"width: 20px; height: 20px;background-color: rgb(206, 230, 208);\"></td><td title=\"Index: [4, 6]&#10;Color: (206, 230, 208)\" style=\"width: 20px; height: 20px;background-color: rgb(206, 230, 208);\"></td><td title=\"Index: [4, 7]&#10;Color: (206, 230, 208)\" style=\"width: 20px; height: 20px;background-color: rgb(206, 230, 208);\"></td><td title=\"Index: [4, 8]&#10;Color: (206, 230, 208)\" style=\"width: 20px; height: 20px;background-color: rgb(206, 230, 208);\"></td><td title=\"Index: [4, 9]&#10;Color: (206, 230, 208)\" style=\"width: 20px; height: 20px;background-color: rgb(206, 230, 208);\"></td><td title=\"Index: [4, 10]&#10;Color: (33, 176, 90)\" style=\"width: 20px; height: 20px;background-color: rgb(33, 176, 90);\"></td></tr><tr><td title=\"Index: [5, 0]&#10;Color: (0, 0, 0)\" style=\"width: 20px; height: 20px;background-color: rgb(0, 0, 0);\"></td><td title=\"Index: [5, 1]&#10;Color: (206, 230, 208)\" style=\"width: 20px; height: 20px;background-color: rgb(206, 230, 208);\"></td><td title=\"Index: [5, 2]&#10;Color: (206, 230, 208)\" style=\"width: 20px; height: 20px;background-color: rgb(206, 230, 208);\"></td><td title=\"Index: [5, 3]&#10;Color: (206, 230, 208)\" style=\"width: 20px; height: 20px;background-color: rgb(206, 230, 208);\"></td><td title=\"Index: [5, 4]&#10;Color: (206, 230, 208)\" style=\"width: 20px; height: 20px;background-color: rgb(206, 230, 208);\"></td><td title=\"Index: [5, 5]&#10;Color: (206, 230, 208)\" style=\"width: 20px; height: 20px;background-color: rgb(206, 230, 208);\"></td><td title=\"Index: [5, 6]&#10;Color: (206, 230, 208)\" style=\"width: 20px; height: 20px;background-color: rgb(206, 230, 208);\"></td><td title=\"Index: [5, 7]&#10;Color: (206, 230, 208)\" style=\"width: 20px; height: 20px;background-color: rgb(206, 230, 208);\"></td><td title=\"Index: [5, 8]&#10;Color: (206, 230, 208)\" style=\"width: 20px; height: 20px;background-color: rgb(206, 230, 208);\"></td><td title=\"Index: [5, 9]&#10;Color: (206, 230, 208)\" style=\"width: 20px; height: 20px;background-color: rgb(206, 230, 208);\"></td><td title=\"Index: [5, 10]&#10;Color: (0, 0, 0)\" style=\"width: 20px; height: 20px;background-color: rgb(0, 0, 0);\"></td></tr><tr><td title=\"Index: [6, 0]&#10;Color: (221, 58, 151)\" style=\"width: 20px; height: 20px;background-color: rgb(221, 58, 151);\"></td><td title=\"Index: [6, 1]&#10;Color: (206, 230, 208)\" style=\"width: 20px; height: 20px;background-color: rgb(206, 230, 208);\"></td><td title=\"Index: [6, 2]&#10;Color: (206, 230, 208)\" style=\"width: 20px; height: 20px;background-color: rgb(206, 230, 208);\"></td><td title=\"Index: [6, 3]&#10;Color: (206, 230, 208)\" style=\"width: 20px; height: 20px;background-color: rgb(206, 230, 208);\"></td><td title=\"Index: [6, 4]&#10;Color: (206, 230, 208)\" style=\"width: 20px; height: 20px;background-color: rgb(206, 230, 208);\"></td><td title=\"Index: [6, 5]&#10;Color: (206, 230, 208)\" style=\"width: 20px; height: 20px;background-color: rgb(206, 230, 208);\"></td><td title=\"Index: [6, 6]&#10;Color: (206, 230, 208)\" style=\"width: 20px; height: 20px;background-color: rgb(206, 230, 208);\"></td><td title=\"Index: [6, 7]&#10;Color: (206, 230, 208)\" style=\"width: 20px; height: 20px;background-color: rgb(206, 230, 208);\"></td><td title=\"Index: [6, 8]&#10;Color: (206, 230, 208)\" style=\"width: 20px; height: 20px;background-color: rgb(206, 230, 208);\"></td><td title=\"Index: [6, 9]&#10;Color: (206, 230, 208)\" style=\"width: 20px; height: 20px;background-color: rgb(206, 230, 208);\"></td><td title=\"Index: [6, 10]&#10;Color: (220, 220, 220)\" style=\"width: 20px; height: 20px;background-color: rgb(220, 220, 220);\"></td></tr><tr><td title=\"Index: [7, 0]&#10;Color: (221, 58, 151)\" style=\"width: 20px; height: 20px;background-color: rgb(221, 58, 151);\"></td><td title=\"Index: [7, 1]&#10;Color: (206, 230, 208)\" style=\"width: 20px; height: 20px;background-color: rgb(206, 230, 208);\"></td><td title=\"Index: [7, 2]&#10;Color: (206, 230, 208)\" style=\"width: 20px; height: 20px;background-color: rgb(206, 230, 208);\"></td><td title=\"Index: [7, 3]&#10;Color: (206, 230, 208)\" style=\"width: 20px; height: 20px;background-color: rgb(206, 230, 208);\"></td><td title=\"Index: [7, 4]&#10;Color: (206, 230, 208)\" style=\"width: 20px; height: 20px;background-color: rgb(206, 230, 208);\"></td><td title=\"Index: [7, 5]&#10;Color: (206, 230, 208)\" style=\"width: 20px; height: 20px;background-color: rgb(206, 230, 208);\"></td><td title=\"Index: [7, 6]&#10;Color: (206, 230, 208)\" style=\"width: 20px; height: 20px;background-color: rgb(206, 230, 208);\"></td><td title=\"Index: [7, 7]&#10;Color: (206, 230, 208)\" style=\"width: 20px; height: 20px;background-color: rgb(206, 230, 208);\"></td><td title=\"Index: [7, 8]&#10;Color: (206, 230, 208)\" style=\"width: 20px; height: 20px;background-color: rgb(206, 230, 208);\"></td><td title=\"Index: [7, 9]&#10;Color: (206, 230, 208)\" style=\"width: 20px; height: 20px;background-color: rgb(206, 230, 208);\"></td><td title=\"Index: [7, 10]&#10;Color: (0, 113, 186)\" style=\"width: 20px; height: 20px;background-color: rgb(0, 113, 186);\"></td></tr><tr><td title=\"Index: [8, 0]&#10;Color: (220, 220, 220)\" style=\"width: 20px; height: 20px;background-color: rgb(220, 220, 220);\"></td><td title=\"Index: [8, 1]&#10;Color: (206, 230, 208)\" style=\"width: 20px; height: 20px;background-color: rgb(206, 230, 208);\"></td><td title=\"Index: [8, 2]&#10;Color: (206, 230, 208)\" style=\"width: 20px; height: 20px;background-color: rgb(206, 230, 208);\"></td><td title=\"Index: [8, 3]&#10;Color: (206, 230, 208)\" style=\"width: 20px; height: 20px;background-color: rgb(206, 230, 208);\"></td><td title=\"Index: [8, 4]&#10;Color: (206, 230, 208)\" style=\"width: 20px; height: 20px;background-color: rgb(206, 230, 208);\"></td><td title=\"Index: [8, 5]&#10;Color: (206, 230, 208)\" style=\"width: 20px; height: 20px;background-color: rgb(206, 230, 208);\"></td><td title=\"Index: [8, 6]&#10;Color: (206, 230, 208)\" style=\"width: 20px; height: 20px;background-color: rgb(206, 230, 208);\"></td><td title=\"Index: [8, 7]&#10;Color: (206, 230, 208)\" style=\"width: 20px; height: 20px;background-color: rgb(206, 230, 208);\"></td><td title=\"Index: [8, 8]&#10;Color: (206, 230, 208)\" style=\"width: 20px; height: 20px;background-color: rgb(206, 230, 208);\"></td><td title=\"Index: [8, 9]&#10;Color: (206, 230, 208)\" style=\"width: 20px; height: 20px;background-color: rgb(206, 230, 208);\"></td><td title=\"Index: [8, 10]&#10;Color: (220, 220, 220)\" style=\"width: 20px; height: 20px;background-color: rgb(220, 220, 220);\"></td></tr><tr><td title=\"Index: [9, 0]&#10;Color: (255, 255, 255)\" style=\"width: 20px; height: 20px;background-color: rgb(255, 255, 255);\"></td><td title=\"Index: [9, 1]&#10;Color: (206, 230, 208)\" style=\"width: 20px; height: 20px;background-color: rgb(206, 230, 208);\"></td><td title=\"Index: [9, 2]&#10;Color: (206, 230, 208)\" style=\"width: 20px; height: 20px;background-color: rgb(206, 230, 208);\"></td><td title=\"Index: [9, 3]&#10;Color: (206, 230, 208)\" style=\"width: 20px; height: 20px;background-color: rgb(206, 230, 208);\"></td><td title=\"Index: [9, 4]&#10;Color: (206, 230, 208)\" style=\"width: 20px; height: 20px;background-color: rgb(206, 230, 208);\"></td><td title=\"Index: [9, 5]&#10;Color: (206, 230, 208)\" style=\"width: 20px; height: 20px;background-color: rgb(206, 230, 208);\"></td><td title=\"Index: [9, 6]&#10;Color: (206, 230, 208)\" style=\"width: 20px; height: 20px;background-color: rgb(206, 230, 208);\"></td><td title=\"Index: [9, 7]&#10;Color: (206, 230, 208)\" style=\"width: 20px; height: 20px;background-color: rgb(206, 230, 208);\"></td><td title=\"Index: [9, 8]&#10;Color: (206, 230, 208)\" style=\"width: 20px; height: 20px;background-color: rgb(206, 230, 208);\"></td><td title=\"Index: [9, 9]&#10;Color: (206, 230, 208)\" style=\"width: 20px; height: 20px;background-color: rgb(206, 230, 208);\"></td><td title=\"Index: [9, 10]&#10;Color: (0, 113, 186)\" style=\"width: 20px; height: 20px;background-color: rgb(0, 113, 186);\"></td></tr><tr><td title=\"Index: [10, 0]&#10;Color: (220, 220, 220)\" style=\"width: 20px; height: 20px;background-color: rgb(220, 220, 220);\"></td><td title=\"Index: [10, 1]&#10;Color: (170, 225, 251)\" style=\"width: 20px; height: 20px;background-color: rgb(170, 225, 251);\"></td><td title=\"Index: [10, 2]&#10;Color: (170, 225, 251)\" style=\"width: 20px; height: 20px;background-color: rgb(170, 225, 251);\"></td><td title=\"Index: [10, 3]&#10;Color: (220, 220, 220)\" style=\"width: 20px; height: 20px;background-color: rgb(220, 220, 220);\"></td><td title=\"Index: [10, 4]&#10;Color: (170, 225, 251)\" style=\"width: 20px; height: 20px;background-color: rgb(170, 225, 251);\"></td><td title=\"Index: [10, 5]&#10;Color: (0, 0, 0)\" style=\"width: 20px; height: 20px;background-color: rgb(0, 0, 0);\"></td><td title=\"Index: [10, 6]&#10;Color: (220, 220, 220)\" style=\"width: 20px; height: 20px;background-color: rgb(220, 220, 220);\"></td><td title=\"Index: [10, 7]&#10;Color: (151, 87, 55)\" style=\"width: 20px; height: 20px;background-color: rgb(151, 87, 55);\"></td><td title=\"Index: [10, 8]&#10;Color: (220, 220, 220)\" style=\"width: 20px; height: 20px;background-color: rgb(220, 220, 220);\"></td><td title=\"Index: [10, 9]&#10;Color: (151, 87, 55)\" style=\"width: 20px; height: 20px;background-color: rgb(151, 87, 55);\"></td><td title=\"Index: [10, 10]&#10;Color: (220, 220, 220)\" style=\"width: 20px; height: 20px;background-color: rgb(220, 220, 220);\"></td></tr></tbody></table>"
      ],
      "text/plain": [
       "<IPython.core.display.HTML object>"
      ]
     },
     "metadata": {},
     "output_type": "display_data"
    },
    {
     "name": "stdout",
     "output_type": "stream",
     "text": [
      "Probability of landing on a square\n"
     ]
    },
    {
     "data": {
      "text/html": [
       "<style type=\"text/css\">table.blockgrid {border: none;} .blockgrid tr {border: none;} .blockgrid td {padding: 0px;} #blocksc4c45d5b-9ab5-4629-be48-37efafe346e7 td {border: 1px solid white;}</style><table id=\"blocksc4c45d5b-9ab5-4629-be48-37efafe346e7\" class=\"blockgrid\"><tbody><tr><td title=\"Index: [0, 0]&#10;Color: (214, 49, 49)\" style=\"width: 20px; height: 20px;background-color: rgb(214, 49, 49);\"></td><td title=\"Index: [0, 1]&#10;Color: (214, 173, 173)\" style=\"width: 20px; height: 20px;background-color: rgb(214, 173, 173);\"></td><td title=\"Index: [0, 2]&#10;Color: (214, 49, 49)\" style=\"width: 20px; height: 20px;background-color: rgb(214, 49, 49);\"></td><td title=\"Index: [0, 3]&#10;Color: (214, 173, 173)\" style=\"width: 20px; height: 20px;background-color: rgb(214, 173, 173);\"></td><td title=\"Index: [0, 4]&#10;Color: (214, 49, 49)\" style=\"width: 20px; height: 20px;background-color: rgb(214, 49, 49);\"></td><td title=\"Index: [0, 5]&#10;Color: (209, 136, 136)\" style=\"width: 20px; height: 20px;background-color: rgb(209, 136, 136);\"></td><td title=\"Index: [0, 6]&#10;Color: (214, 173, 173)\" style=\"width: 20px; height: 20px;background-color: rgb(214, 173, 173);\"></td><td title=\"Index: [0, 7]&#10;Color: (214, 173, 173)\" style=\"width: 20px; height: 20px;background-color: rgb(214, 173, 173);\"></td><td title=\"Index: [0, 8]&#10;Color: (209, 136, 136)\" style=\"width: 20px; height: 20px;background-color: rgb(209, 136, 136);\"></td><td title=\"Index: [0, 9]&#10;Color: (214, 173, 173)\" style=\"width: 20px; height: 20px;background-color: rgb(214, 173, 173);\"></td><td title=\"Index: [0, 10]&#10;Color: (214, 173, 173)\" style=\"width: 20px; height: 20px;background-color: rgb(214, 173, 173);\"></td></tr><tr><td title=\"Index: [1, 0]&#10;Color: (209, 136, 136)\" style=\"width: 20px; height: 20px;background-color: rgb(209, 136, 136);\"></td><td title=\"Index: [1, 1]&#10;Color: (206, 230, 208)\" style=\"width: 20px; height: 20px;background-color: rgb(206, 230, 208);\"></td><td title=\"Index: [1, 2]&#10;Color: (206, 230, 208)\" style=\"width: 20px; height: 20px;background-color: rgb(206, 230, 208);\"></td><td title=\"Index: [1, 3]&#10;Color: (206, 230, 208)\" style=\"width: 20px; height: 20px;background-color: rgb(206, 230, 208);\"></td><td title=\"Index: [1, 4]&#10;Color: (206, 230, 208)\" style=\"width: 20px; height: 20px;background-color: rgb(206, 230, 208);\"></td><td title=\"Index: [1, 5]&#10;Color: (206, 230, 208)\" style=\"width: 20px; height: 20px;background-color: rgb(206, 230, 208);\"></td><td title=\"Index: [1, 6]&#10;Color: (206, 230, 208)\" style=\"width: 20px; height: 20px;background-color: rgb(206, 230, 208);\"></td><td title=\"Index: [1, 7]&#10;Color: (206, 230, 208)\" style=\"width: 20px; height: 20px;background-color: rgb(206, 230, 208);\"></td><td title=\"Index: [1, 8]&#10;Color: (206, 230, 208)\" style=\"width: 20px; height: 20px;background-color: rgb(206, 230, 208);\"></td><td title=\"Index: [1, 9]&#10;Color: (206, 230, 208)\" style=\"width: 20px; height: 20px;background-color: rgb(206, 230, 208);\"></td><td title=\"Index: [1, 10]&#10;Color: (209, 136, 136)\" style=\"width: 20px; height: 20px;background-color: rgb(209, 136, 136);\"></td></tr><tr><td title=\"Index: [2, 0]&#10;Color: (209, 95, 95)\" style=\"width: 20px; height: 20px;background-color: rgb(209, 95, 95);\"></td><td title=\"Index: [2, 1]&#10;Color: (206, 230, 208)\" style=\"width: 20px; height: 20px;background-color: rgb(206, 230, 208);\"></td><td title=\"Index: [2, 2]&#10;Color: (206, 230, 208)\" style=\"width: 20px; height: 20px;background-color: rgb(206, 230, 208);\"></td><td title=\"Index: [2, 3]&#10;Color: (206, 230, 208)\" style=\"width: 20px; height: 20px;background-color: rgb(206, 230, 208);\"></td><td title=\"Index: [2, 4]&#10;Color: (206, 230, 208)\" style=\"width: 20px; height: 20px;background-color: rgb(206, 230, 208);\"></td><td title=\"Index: [2, 5]&#10;Color: (206, 230, 208)\" style=\"width: 20px; height: 20px;background-color: rgb(206, 230, 208);\"></td><td title=\"Index: [2, 6]&#10;Color: (206, 230, 208)\" style=\"width: 20px; height: 20px;background-color: rgb(206, 230, 208);\"></td><td title=\"Index: [2, 7]&#10;Color: (206, 230, 208)\" style=\"width: 20px; height: 20px;background-color: rgb(206, 230, 208);\"></td><td title=\"Index: [2, 8]&#10;Color: (206, 230, 208)\" style=\"width: 20px; height: 20px;background-color: rgb(206, 230, 208);\"></td><td title=\"Index: [2, 9]&#10;Color: (206, 230, 208)\" style=\"width: 20px; height: 20px;background-color: rgb(206, 230, 208);\"></td><td title=\"Index: [2, 10]&#10;Color: (214, 173, 173)\" style=\"width: 20px; height: 20px;background-color: rgb(214, 173, 173);\"></td></tr><tr><td title=\"Index: [3, 0]&#10;Color: (223, 205, 205)\" style=\"width: 20px; height: 20px;background-color: rgb(223, 205, 205);\"></td><td title=\"Index: [3, 1]&#10;Color: (206, 230, 208)\" style=\"width: 20px; height: 20px;background-color: rgb(206, 230, 208);\"></td><td title=\"Index: [3, 2]&#10;Color: (206, 230, 208)\" style=\"width: 20px; height: 20px;background-color: rgb(206, 230, 208);\"></td><td title=\"Index: [3, 3]&#10;Color: (206, 230, 208)\" style=\"width: 20px; height: 20px;background-color: rgb(206, 230, 208);\"></td><td title=\"Index: [3, 4]&#10;Color: (206, 230, 208)\" style=\"width: 20px; height: 20px;background-color: rgb(206, 230, 208);\"></td><td title=\"Index: [3, 5]&#10;Color: (206, 230, 208)\" style=\"width: 20px; height: 20px;background-color: rgb(206, 230, 208);\"></td><td title=\"Index: [3, 6]&#10;Color: (206, 230, 208)\" style=\"width: 20px; height: 20px;background-color: rgb(206, 230, 208);\"></td><td title=\"Index: [3, 7]&#10;Color: (206, 230, 208)\" style=\"width: 20px; height: 20px;background-color: rgb(206, 230, 208);\"></td><td title=\"Index: [3, 8]&#10;Color: (206, 230, 208)\" style=\"width: 20px; height: 20px;background-color: rgb(206, 230, 208);\"></td><td title=\"Index: [3, 9]&#10;Color: (206, 230, 208)\" style=\"width: 20px; height: 20px;background-color: rgb(206, 230, 208);\"></td><td title=\"Index: [3, 10]&#10;Color: (214, 173, 173)\" style=\"width: 20px; height: 20px;background-color: rgb(214, 173, 173);\"></td></tr><tr><td title=\"Index: [4, 0]&#10;Color: (209, 95, 95)\" style=\"width: 20px; height: 20px;background-color: rgb(209, 95, 95);\"></td><td title=\"Index: [4, 1]&#10;Color: (206, 230, 208)\" style=\"width: 20px; height: 20px;background-color: rgb(206, 230, 208);\"></td><td title=\"Index: [4, 2]&#10;Color: (206, 230, 208)\" style=\"width: 20px; height: 20px;background-color: rgb(206, 230, 208);\"></td><td title=\"Index: [4, 3]&#10;Color: (206, 230, 208)\" style=\"width: 20px; height: 20px;background-color: rgb(206, 230, 208);\"></td><td title=\"Index: [4, 4]&#10;Color: (206, 230, 208)\" style=\"width: 20px; height: 20px;background-color: rgb(206, 230, 208);\"></td><td title=\"Index: [4, 5]&#10;Color: (206, 230, 208)\" style=\"width: 20px; height: 20px;background-color: rgb(206, 230, 208);\"></td><td title=\"Index: [4, 6]&#10;Color: (206, 230, 208)\" style=\"width: 20px; height: 20px;background-color: rgb(206, 230, 208);\"></td><td title=\"Index: [4, 7]&#10;Color: (206, 230, 208)\" style=\"width: 20px; height: 20px;background-color: rgb(206, 230, 208);\"></td><td title=\"Index: [4, 8]&#10;Color: (206, 230, 208)\" style=\"width: 20px; height: 20px;background-color: rgb(206, 230, 208);\"></td><td title=\"Index: [4, 9]&#10;Color: (206, 230, 208)\" style=\"width: 20px; height: 20px;background-color: rgb(206, 230, 208);\"></td><td title=\"Index: [4, 10]&#10;Color: (223, 205, 205)\" style=\"width: 20px; height: 20px;background-color: rgb(223, 205, 205);\"></td></tr><tr><td title=\"Index: [5, 0]&#10;Color: (214, 173, 173)\" style=\"width: 20px; height: 20px;background-color: rgb(214, 173, 173);\"></td><td title=\"Index: [5, 1]&#10;Color: (206, 230, 208)\" style=\"width: 20px; height: 20px;background-color: rgb(206, 230, 208);\"></td><td title=\"Index: [5, 2]&#10;Color: (206, 230, 208)\" style=\"width: 20px; height: 20px;background-color: rgb(206, 230, 208);\"></td><td title=\"Index: [5, 3]&#10;Color: (206, 230, 208)\" style=\"width: 20px; height: 20px;background-color: rgb(206, 230, 208);\"></td><td title=\"Index: [5, 4]&#10;Color: (206, 230, 208)\" style=\"width: 20px; height: 20px;background-color: rgb(206, 230, 208);\"></td><td title=\"Index: [5, 5]&#10;Color: (206, 230, 208)\" style=\"width: 20px; height: 20px;background-color: rgb(206, 230, 208);\"></td><td title=\"Index: [5, 6]&#10;Color: (206, 230, 208)\" style=\"width: 20px; height: 20px;background-color: rgb(206, 230, 208);\"></td><td title=\"Index: [5, 7]&#10;Color: (206, 230, 208)\" style=\"width: 20px; height: 20px;background-color: rgb(206, 230, 208);\"></td><td title=\"Index: [5, 8]&#10;Color: (206, 230, 208)\" style=\"width: 20px; height: 20px;background-color: rgb(206, 230, 208);\"></td><td title=\"Index: [5, 9]&#10;Color: (206, 230, 208)\" style=\"width: 20px; height: 20px;background-color: rgb(206, 230, 208);\"></td><td title=\"Index: [5, 10]&#10;Color: (223, 205, 205)\" style=\"width: 20px; height: 20px;background-color: rgb(223, 205, 205);\"></td></tr><tr><td title=\"Index: [6, 0]&#10;Color: (209, 136, 136)\" style=\"width: 20px; height: 20px;background-color: rgb(209, 136, 136);\"></td><td title=\"Index: [6, 1]&#10;Color: (206, 230, 208)\" style=\"width: 20px; height: 20px;background-color: rgb(206, 230, 208);\"></td><td title=\"Index: [6, 2]&#10;Color: (206, 230, 208)\" style=\"width: 20px; height: 20px;background-color: rgb(206, 230, 208);\"></td><td title=\"Index: [6, 3]&#10;Color: (206, 230, 208)\" style=\"width: 20px; height: 20px;background-color: rgb(206, 230, 208);\"></td><td title=\"Index: [6, 4]&#10;Color: (206, 230, 208)\" style=\"width: 20px; height: 20px;background-color: rgb(206, 230, 208);\"></td><td title=\"Index: [6, 5]&#10;Color: (206, 230, 208)\" style=\"width: 20px; height: 20px;background-color: rgb(206, 230, 208);\"></td><td title=\"Index: [6, 6]&#10;Color: (206, 230, 208)\" style=\"width: 20px; height: 20px;background-color: rgb(206, 230, 208);\"></td><td title=\"Index: [6, 7]&#10;Color: (206, 230, 208)\" style=\"width: 20px; height: 20px;background-color: rgb(206, 230, 208);\"></td><td title=\"Index: [6, 8]&#10;Color: (206, 230, 208)\" style=\"width: 20px; height: 20px;background-color: rgb(206, 230, 208);\"></td><td title=\"Index: [6, 9]&#10;Color: (206, 230, 208)\" style=\"width: 20px; height: 20px;background-color: rgb(206, 230, 208);\"></td><td title=\"Index: [6, 10]&#10;Color: (223, 205, 205)\" style=\"width: 20px; height: 20px;background-color: rgb(223, 205, 205);\"></td></tr><tr><td title=\"Index: [7, 0]&#10;Color: (237, 232, 232)\" style=\"width: 20px; height: 20px;background-color: rgb(237, 232, 232);\"></td><td title=\"Index: [7, 1]&#10;Color: (206, 230, 208)\" style=\"width: 20px; height: 20px;background-color: rgb(206, 230, 208);\"></td><td title=\"Index: [7, 2]&#10;Color: (206, 230, 208)\" style=\"width: 20px; height: 20px;background-color: rgb(206, 230, 208);\"></td><td title=\"Index: [7, 3]&#10;Color: (206, 230, 208)\" style=\"width: 20px; height: 20px;background-color: rgb(206, 230, 208);\"></td><td title=\"Index: [7, 4]&#10;Color: (206, 230, 208)\" style=\"width: 20px; height: 20px;background-color: rgb(206, 230, 208);\"></td><td title=\"Index: [7, 5]&#10;Color: (206, 230, 208)\" style=\"width: 20px; height: 20px;background-color: rgb(206, 230, 208);\"></td><td title=\"Index: [7, 6]&#10;Color: (206, 230, 208)\" style=\"width: 20px; height: 20px;background-color: rgb(206, 230, 208);\"></td><td title=\"Index: [7, 7]&#10;Color: (206, 230, 208)\" style=\"width: 20px; height: 20px;background-color: rgb(206, 230, 208);\"></td><td title=\"Index: [7, 8]&#10;Color: (206, 230, 208)\" style=\"width: 20px; height: 20px;background-color: rgb(206, 230, 208);\"></td><td title=\"Index: [7, 9]&#10;Color: (206, 230, 208)\" style=\"width: 20px; height: 20px;background-color: rgb(206, 230, 208);\"></td><td title=\"Index: [7, 10]&#10;Color: (237, 232, 232)\" style=\"width: 20px; height: 20px;background-color: rgb(237, 232, 232);\"></td></tr><tr><td title=\"Index: [8, 0]&#10;Color: (209, 95, 95)\" style=\"width: 20px; height: 20px;background-color: rgb(209, 95, 95);\"></td><td title=\"Index: [8, 1]&#10;Color: (206, 230, 208)\" style=\"width: 20px; height: 20px;background-color: rgb(206, 230, 208);\"></td><td title=\"Index: [8, 2]&#10;Color: (206, 230, 208)\" style=\"width: 20px; height: 20px;background-color: rgb(206, 230, 208);\"></td><td title=\"Index: [8, 3]&#10;Color: (206, 230, 208)\" style=\"width: 20px; height: 20px;background-color: rgb(206, 230, 208);\"></td><td title=\"Index: [8, 4]&#10;Color: (206, 230, 208)\" style=\"width: 20px; height: 20px;background-color: rgb(206, 230, 208);\"></td><td title=\"Index: [8, 5]&#10;Color: (206, 230, 208)\" style=\"width: 20px; height: 20px;background-color: rgb(206, 230, 208);\"></td><td title=\"Index: [8, 6]&#10;Color: (206, 230, 208)\" style=\"width: 20px; height: 20px;background-color: rgb(206, 230, 208);\"></td><td title=\"Index: [8, 7]&#10;Color: (206, 230, 208)\" style=\"width: 20px; height: 20px;background-color: rgb(206, 230, 208);\"></td><td title=\"Index: [8, 8]&#10;Color: (206, 230, 208)\" style=\"width: 20px; height: 20px;background-color: rgb(206, 230, 208);\"></td><td title=\"Index: [8, 9]&#10;Color: (206, 230, 208)\" style=\"width: 20px; height: 20px;background-color: rgb(206, 230, 208);\"></td><td title=\"Index: [8, 10]&#10;Color: (237, 232, 232)\" style=\"width: 20px; height: 20px;background-color: rgb(237, 232, 232);\"></td></tr><tr><td title=\"Index: [9, 0]&#10;Color: (209, 136, 136)\" style=\"width: 20px; height: 20px;background-color: rgb(209, 136, 136);\"></td><td title=\"Index: [9, 1]&#10;Color: (206, 230, 208)\" style=\"width: 20px; height: 20px;background-color: rgb(206, 230, 208);\"></td><td title=\"Index: [9, 2]&#10;Color: (206, 230, 208)\" style=\"width: 20px; height: 20px;background-color: rgb(206, 230, 208);\"></td><td title=\"Index: [9, 3]&#10;Color: (206, 230, 208)\" style=\"width: 20px; height: 20px;background-color: rgb(206, 230, 208);\"></td><td title=\"Index: [9, 4]&#10;Color: (206, 230, 208)\" style=\"width: 20px; height: 20px;background-color: rgb(206, 230, 208);\"></td><td title=\"Index: [9, 5]&#10;Color: (206, 230, 208)\" style=\"width: 20px; height: 20px;background-color: rgb(206, 230, 208);\"></td><td title=\"Index: [9, 6]&#10;Color: (206, 230, 208)\" style=\"width: 20px; height: 20px;background-color: rgb(206, 230, 208);\"></td><td title=\"Index: [9, 7]&#10;Color: (206, 230, 208)\" style=\"width: 20px; height: 20px;background-color: rgb(206, 230, 208);\"></td><td title=\"Index: [9, 8]&#10;Color: (206, 230, 208)\" style=\"width: 20px; height: 20px;background-color: rgb(206, 230, 208);\"></td><td title=\"Index: [9, 9]&#10;Color: (206, 230, 208)\" style=\"width: 20px; height: 20px;background-color: rgb(206, 230, 208);\"></td><td title=\"Index: [9, 10]&#10;Color: (214, 173, 173)\" style=\"width: 20px; height: 20px;background-color: rgb(214, 173, 173);\"></td></tr><tr><td title=\"Index: [10, 0]&#10;Color: (139, 0, 0)\" style=\"width: 20px; height: 20px;background-color: rgb(139, 0, 0);\"></td><td title=\"Index: [10, 1]&#10;Color: (223, 205, 205)\" style=\"width: 20px; height: 20px;background-color: rgb(223, 205, 205);\"></td><td title=\"Index: [10, 2]&#10;Color: (223, 205, 205)\" style=\"width: 20px; height: 20px;background-color: rgb(223, 205, 205);\"></td><td title=\"Index: [10, 3]&#10;Color: (223, 205, 205)\" style=\"width: 20px; height: 20px;background-color: rgb(223, 205, 205);\"></td><td title=\"Index: [10, 4]&#10;Color: (223, 205, 205)\" style=\"width: 20px; height: 20px;background-color: rgb(223, 205, 205);\"></td><td title=\"Index: [10, 5]&#10;Color: (209, 136, 136)\" style=\"width: 20px; height: 20px;background-color: rgb(209, 136, 136);\"></td><td title=\"Index: [10, 6]&#10;Color: (223, 205, 205)\" style=\"width: 20px; height: 20px;background-color: rgb(223, 205, 205);\"></td><td title=\"Index: [10, 7]&#10;Color: (237, 232, 232)\" style=\"width: 20px; height: 20px;background-color: rgb(237, 232, 232);\"></td><td title=\"Index: [10, 8]&#10;Color: (237, 232, 232)\" style=\"width: 20px; height: 20px;background-color: rgb(237, 232, 232);\"></td><td title=\"Index: [10, 9]&#10;Color: (237, 232, 232)\" style=\"width: 20px; height: 20px;background-color: rgb(237, 232, 232);\"></td><td title=\"Index: [10, 10]&#10;Color: (209, 95, 95)\" style=\"width: 20px; height: 20px;background-color: rgb(209, 95, 95);\"></td></tr></tbody></table>"
      ],
      "text/plain": [
       "<IPython.core.display.HTML object>"
      ]
     },
     "metadata": {},
     "output_type": "display_data"
    }
   ],
   "source": [
    "def get_color(p):\n",
    "    if p < 0.019:\n",
    "        return (255, 255, 255)\n",
    "    if p < 0.021:\n",
    "        return (237, 232, 232)\n",
    "    if p < 0.023:\n",
    "        return (223, 205, 205)\n",
    "    if p < 0.025:\n",
    "        return (214, 173, 173)\n",
    "    if p < 0.027:\n",
    "        return (209, 136, 136)\n",
    "    if p < 0.029:\n",
    "        return (209, 95, 95)\n",
    "    if p < 0.031:\n",
    "        return (214, 49, 49)\n",
    "    if p < 0.033:\n",
    "        return (197, 25, 25)\n",
    "    if p < 0.034:\n",
    "        return (170, 10, 10)\n",
    "    return (139, 0, 0)\n",
    "\n",
    "black = (0, 0, 0)\n",
    "white = (255, 255, 255)\n",
    "brown = (151, 87, 55)\n",
    "light_blue = (170, 225, 251)\n",
    "pink = (221, 58, 151)\n",
    "orange = (245, 148, 28)\n",
    "red = (236, 27, 32)\n",
    "yellow = (255, 239, 0)\n",
    "green = (33, 176, 90)\n",
    "blue = (0, 113, 186)\n",
    "\n",
    "board = BlockGrid(11, 11, fill=(220, 220, 220))\n",
    "board[1:-1, 1:-1] = (206, 230, 208)\n",
    "\n",
    "board[10, 9] = brown\n",
    "board[10, 7] = brown\n",
    "board[10, 4] = light_blue\n",
    "board[10, 2] = light_blue\n",
    "board[10, 1] = light_blue\n",
    "board[9, 0] = pink\n",
    "board[7, 0] = pink\n",
    "board[6, 0] = pink\n",
    "board[4, 0] = orange\n",
    "board[2, 0] = orange\n",
    "board[1, 0] = orange\n",
    "board[0, 1] = red\n",
    "board[0, 3] = red\n",
    "board[0, 4] = red\n",
    "board[0, 6] = yellow\n",
    "board[0, 7] = yellow\n",
    "board[0, 9] = yellow\n",
    "board[1, 10] = green\n",
    "board[2, 10] = green\n",
    "board[4, 10] = green\n",
    "board[7, 10] = blue\n",
    "board[9, 10] = blue\n",
    "board[10, 5] = black\n",
    "board[0, 5] = black\n",
    "board[5, 10] = black\n",
    "board[5, 0] = black\n",
    "board[0, 8] = white\n",
    "board[9, 0] = white\n",
    "\n",
    "print('Monopoly Board with Colored Properties')\n",
    "board.show()\n",
    "\n",
    "results = simulate()[0]\n",
    "prob = [x / sum(results) for x in results]\n",
    "\n",
    "grid = BlockGrid(11, 11, fill=(206, 230, 208))\n",
    "\n",
    "# bottom: GO - Connecticut Ave\n",
    "for i, j in zip(range(10, 0, -1), range(0, 10)):\n",
    "    grid[10, i] = get_color(prob[j])\n",
    "# left: Jail - New York Ave\n",
    "for i, j in zip(range(10, 0 , -1), range(10, 20)):\n",
    "    grid[i, 0] = get_color(prob[j])\n",
    "# top: Free Parking - Marvin Gardens\n",
    "for i, j in zip(range(0, 10), range(20, 30)):\n",
    "    grid[0, i] = get_color(prob[j])\n",
    "# right: Go to Jail - Boardwalk\n",
    "for i, j in zip(range(0, 10), range(30, 40)):\n",
    "    grid[i, 10] = get_color(prob[j])\n",
    "\n",
    "print('Probability of landing on a square')\n",
    "grid.show()\n"
   ]
  },
  {
   "cell_type": "markdown",
   "metadata": {},
   "source": [
    "# QUESTION 1F (ADVANCED) (CSC421 - 0 points, CSC581C - 2 points)\n",
    "\n",
    "Implement code for handling the money aspect of monopoly and extend your simulation to handle multi-player playing by creating a very simple buying/selling AI for example randomly selecting one or the other action. \n",
    "You shoud be able to step through a fully simulated Game of Monopoly and see how everything is working. You can ignore building and assume that when a player lands in a property square they can purchase it at a predefined price and after they purchase it anyone who lands on that square pays a fixed fee. Also no need to simulate getting properties of the same color. \n",
    "\n",
    "Of course if you feel ambitious and want to do a full simulation of the actual game that's perfectly fine and \n",
    "you will not be penalized for the extra features. \n",
    "\n"
   ]
  },
  {
   "cell_type": "code",
   "execution_count": 50,
   "metadata": {},
   "outputs": [],
   "source": [
    "# YOUR CODE GOES HERE "
   ]
  }
 ],
 "metadata": {
  "kernelspec": {
   "display_name": "Python 3",
   "language": "python",
   "name": "python3"
  },
  "language_info": {
   "codemirror_mode": {
    "name": "ipython",
    "version": 3
   },
   "file_extension": ".py",
   "mimetype": "text/x-python",
   "name": "python",
   "nbconvert_exporter": "python",
   "pygments_lexer": "ipython3",
   "version": "3.6.7"
  }
 },
 "nbformat": 4,
 "nbformat_minor": 1
}
