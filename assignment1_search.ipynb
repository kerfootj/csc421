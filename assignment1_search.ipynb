{
 "cells": [
  {
   "cell_type": "markdown",
   "metadata": {},
   "source": [
    "# CSC421 Assignment 1 Search #\n",
    "\n",
    "This notebook is based on the supporting material for topics covered in **Chapter 3 - Intelligent Agents** from the book *Artificial Intelligence: A Modern Approach.* You can consult and modify the code provided in search.py and search.ipynb for completing the assignment questions. "
   ]
  },
  {
   "cell_type": "markdown",
   "metadata": {},
   "source": [
    "## Introduction - Block World \n",
    "\n",
    "In this assignment we will explore search algorithm using a Block World consisting of a width by height grid of \n",
    "cells. That way you can reuse the ipythonblocks code from agents.ipynb and agents.py for visualization. A Block World navigation problem consists of finding a path from a starting location on the grid to a destination location of the grid. In each square/cell the search agent can move in 4 directions (UP, LEFT, RIGHT, DOWN) except the edges in which one of these directions is not available depending on which side of the grid the agent is on. \n",
    "\n",
    "In the simplest version of this problem the search agent just has to go from the starting cell to the destination cell and a solution is the sequence of actions required. Note that for this particular problem search algoithms are overkill and instead a very simple algorithm can be used to find immediately a solution. One can take the difference of the x-coordinates and then move the appropriate number of LEFT or RIGHT steps and similarly take the difference of the y-coodinates and then move the appropriate number of UP and DOWN steps. However implementing search algorithms for this problem will help you understand the concepts better and is also needed \n",
    "for the more complex version of the problem which includes obstacles. \n",
    "\n",
    "In the obstacle version of the problem you are also provided with the location of a number of squares (expressed as (x,y) coordinates that act as obstacles. For example if there is an obstacle at a particular location then the agent will not be able to move to that location. Now a solution is a sequence of actions that takes our agents from the starting location to the destination location that also avoids any obstacles. \n",
    "\n",
    "In the rest of the notebook we specify the different subproblems based on this setting that you will be working on for this assignment. "
   ]
  },
  {
   "cell_type": "markdown",
   "metadata": {},
   "source": [
    "# Question 2A (Minimum) 1 point\n",
    "\n",
    "Write a subclass of the abstract class problem provided in search.ipynb. Similarly to how in search.ipynb the abstract problem is made concrete by GraphProblem in the case of searching a graph, you will make it concrete by writing BlockWorldProblem. \n",
    "\n"
   ]
  },
  {
   "cell_type": "code",
   "execution_count": null,
   "metadata": {},
   "outputs": [],
   "source": [
    "# YOUR CODE GOES HERE \n"
   ]
  },
  {
   "cell_type": "markdown",
   "metadata": {},
   "source": [
    "# Question 2B (Minimum) 1 point \n",
    "\n",
    "In the search.ipynb notebook there is visualization code for Breadth-First Graph search and Depth-First Graph search. Remove the graph visualization code but keep the search code the same. Change the code so that the frontier gets printed as the search algorithm iterates. For debugging purposes you can start with the Romania example first but in the final solution you should show how the frontier changes for a particular instances of the BlockWorld problem. Use the following dimensions: a 10 by 10 grid with a starting location of (0,1) and a destination location of (7,8). Notice that in our BlockWorld problem there are a lot of overlapping path reaching a node so it makes sense to use GraphSearch and keep track of what nodes have been expanded already so that they are not expanded again. \n"
   ]
  },
  {
   "cell_type": "code",
   "execution_count": null,
   "metadata": {},
   "outputs": [],
   "source": [
    "# YOUR CODE GOES HERE \n"
   ]
  },
  {
   "cell_type": "markdown",
   "metadata": {},
   "source": [
    "# Question 2C (Minimum) 1 point \n",
    "\n",
    "Using the code you wrote for the previous question to print the frontier as the search algorithm iterates show how the frontier changes for Greedy and A* graph search. Use the straight-line heuristic. "
   ]
  },
  {
   "cell_type": "code",
   "execution_count": null,
   "metadata": {},
   "outputs": [],
   "source": [
    "# YOUR CODE GOES HERE"
   ]
  },
  {
   "cell_type": "markdown",
   "metadata": {},
   "source": [
    "# Question 2D (Expected) 1 point \n",
    "\n",
    "Modify the problem definition to take into account a list of random obstacles expressed as (x,y) coordinates. \n",
    "Write code to generate random instances of such problems. To generate a random instances of a BlockWorld problem \n",
    "with width W and height H use the following algorith: \n",
    "\n",
    "1. Generate two random numbers between 0 and W-1 and 0 and H-1 to use as the starting location \n",
    "2. Similarly generate two random numbers to use as the starting location \n",
    "3. Similarly generate the coordinates of obstacles \n",
    "\n",
    "The number of obstacles should be specified as a density parameter which is the percentage of the total \n",
    "number of cells that have obstacles. For example in a 6 by 6 grid there are 36 blocks. A density of 0.33 \n",
    "would mean that there are 12 randomly placed obstacles. \n",
    "\n",
    "Show with print statements that your code is working as expected. \n",
    "Use ipythonblocks (you can check agents.py and agents.ipynb for examples of usage) to display the \n",
    "randomly generated instances of the problem. "
   ]
  },
  {
   "cell_type": "code",
   "execution_count": null,
   "metadata": {},
   "outputs": [],
   "source": [
    "# YOUR CODE GOES HERE "
   ]
  },
  {
   "cell_type": "markdown",
   "metadata": {},
   "source": [
    "# Question 2E (Expected) 1 point\n",
    "\n",
    "Visualize search algorithms using ipythonblocks with the same color conventions that are used in search.ipynb for visualizing search with the Romania map. Your code should update the color after every iteration similar to how the visualization works in search.ipynb. Show how DFS and A* graph search will look like using this visualization for a 10 by 10 grid with 0.1 density. "
   ]
  },
  {
   "cell_type": "code",
   "execution_count": null,
   "metadata": {},
   "outputs": [],
   "source": [
    "# YOUR CODE GOES HERE "
   ]
  },
  {
   "cell_type": "markdown",
   "metadata": {},
   "source": [
    "# Question 2F (Expected) 1 point \n",
    "\n",
    "Modify the search code so that it tracks the number of nodes visited (time complexity) and the maximum size in terms of number of nodes in the frontier (space complexity) during the execution of the search algorithm. When running one instance of the problem you should get two integer numbers: the space complexity (in number of nodes) and the time complexity (in number of nodes). Run 100 randomly generated instances of 10 by 10 grids with 0.1 density and report the average measured time and space complexity for the following algorithms: \n",
    "BFGS, DFGS, Greedy GS, A* Graph Search. "
   ]
  },
  {
   "cell_type": "code",
   "execution_count": null,
   "metadata": {},
   "outputs": [],
   "source": [
    "# YOUR CODE GOES HERE "
   ]
  },
  {
   "cell_type": "markdown",
   "metadata": {},
   "source": [
    "# Question 2G (Advanced) 1 point \n",
    "\n",
    "Implement one of the maze generation algorithms described below: https://en.wikipedia.org/wiki/Maze_generation_algorithm\n",
    "\n",
    "Use this technique to convert your generated maze to blockwise geometry \n",
    "https://weblog.jamisbuck.org/2015/10/31/mazes-blockwise-geometry.html\n",
    "\n",
    "Visualize your generated maze using ipythonblocks. "
   ]
  },
  {
   "cell_type": "code",
   "execution_count": null,
   "metadata": {},
   "outputs": [],
   "source": [
    "# YOUR CODE GOES HERE "
   ]
  },
  {
   "cell_type": "markdown",
   "metadata": {},
   "source": [
    "# Question 2H (Advanced) 1 point \n",
    "\n",
    "Implement finding a path through generated mazes using Search and \n",
    "visualize the resulting solution using ipythonblocks. \n",
    "\n",
    "Do a comparison in terms of measured with tracing running time and \n",
    "space complexity of BFGS, DGFS, Greeedy GS, A* GS for 100 randomly generated mazes \n",
    "of 20 by 20 grids using two heuristics (Manhattan and Straight-Line distance). \n",
    "\n",
    "Show two tables (one for space and one for time complexity) with the results \n",
    "of 6 configurations (BFGS, DGFS, Greedy with Manhattan, Greedy with Straight-line, A* with Manhattan, A* with Straight-line). Which heuristics works better for the maze solving problem? \n",
    "\n"
   ]
  },
  {
   "cell_type": "code",
   "execution_count": null,
   "metadata": {},
   "outputs": [],
   "source": [
    "# YOUR CODE GOES HERE "
   ]
  },
  {
   "cell_type": "code",
   "execution_count": null,
   "metadata": {},
   "outputs": [],
   "source": []
  }
 ],
 "metadata": {
  "kernelspec": {
   "display_name": "Python 3",
   "language": "python",
   "name": "python3"
  },
  "language_info": {
   "codemirror_mode": {
    "name": "ipython",
    "version": 3
   },
   "file_extension": ".py",
   "mimetype": "text/x-python",
   "name": "python",
   "nbconvert_exporter": "python",
   "pygments_lexer": "ipython3",
   "version": "3.7.1"
  }
 },
 "nbformat": 4,
 "nbformat_minor": 1
}
